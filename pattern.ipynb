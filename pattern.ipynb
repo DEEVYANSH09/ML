{
 "cells": [
  {
   "cell_type": "code",
   "execution_count": 1,
   "id": "4ea58746-e492-4d2a-9a33-034b12c2442b",
   "metadata": {},
   "outputs": [
    {
     "name": "stdout",
     "output_type": "stream",
     "text": [
      "*****\n",
      "*****\n",
      "*****\n",
      "*****\n",
      "*****\n"
     ]
    }
   ],
   "source": [
    "totstr=5\n",
    "totrow=5\n",
    "cntrow=1\n",
    "\n",
    "while cntrow<=totrow: #to print rows\n",
    "    cntstr=1 # variable that count how many stars r printed\n",
    "    \n",
    "    while cntstr<=totstr: # loop for printing columns\n",
    "        print(\"*\",end=\"\")\n",
    "        cntstr+=1;\n",
    "    \n",
    "    print() # to shift to next line\n",
    "    cntrow+=1\n",
    "\n",
    "    "
   ]
  },
  {
   "cell_type": "code",
   "execution_count": 2,
   "id": "c867748d-0da1-480d-b300-6dedc9bbc825",
   "metadata": {
    "scrolled": true
   },
   "outputs": [
    {
     "name": "stdout",
     "output_type": "stream",
     "text": [
      "*\n",
      "**\n",
      "***\n",
      "****\n",
      "*****\n"
     ]
    }
   ],
   "source": [
    "\n",
    "totrow=5;\n",
    "cntrow=1;\n",
    "totstr=1;\n",
    "\n",
    "while cntrow<=totrow:  \n",
    "    countstr=1\n",
    "    \n",
    "    while(countstr<=totstr):\n",
    "        print(\"*\",end=\"\")\n",
    "        countstr+=1\n",
    "        \n",
    "    print()\n",
    "    totstr+=1;\n",
    "    cntrow+=1;\n",
    "    "
   ]
  },
  {
   "cell_type": "code",
   "execution_count": 3,
   "id": "75c21910-16f4-4acb-88e3-47bee8dd5d7b",
   "metadata": {},
   "outputs": [
    {
     "name": "stdout",
     "output_type": "stream",
     "text": [
      "*****\n",
      "****\n",
      "***\n",
      "**\n",
      "*\n"
     ]
    }
   ],
   "source": [
    "totrow = 5\n",
    "countrow = 1\n",
    "totstr = 5 \n",
    "while countrow<=totrow :\n",
    "    countstr = 1\n",
    "    \n",
    "    while countstr<=totstr :\n",
    "        print(\"*\",end=\"\")\n",
    "        countstr+=1\n",
    "        \n",
    "    print()\n",
    "    totstr-=1\n",
    "    countrow+=1\n",
    "    \n"
   ]
  },
  {
   "cell_type": "code",
   "execution_count": 4,
   "id": "402633e2-8150-4772-8785-24469ae370b6",
   "metadata": {},
   "outputs": [
    {
     "name": "stdout",
     "output_type": "stream",
     "text": [
      "    *\n",
      "   **\n",
      "  ***\n",
      " ****\n",
      "*****\n"
     ]
    }
   ],
   "source": [
    "totrow = 5 \n",
    "countrow = 1\n",
    "totspace = 4 # total no of spaces in required code\n",
    "totstr = 1;\n",
    "while countrow<=totrow :\n",
    "    countspace = 1\n",
    "    countstr = 1\n",
    "    while countspace<=totspace : # loop that print spaces\n",
    "        print(\" \",end=\"\") # end helps to stay in same line\n",
    "        countspace+=1\n",
    "    \n",
    "    while countstr<=totstr :\n",
    "        print(\"*\",end=\"\")\n",
    "        countstr+=1\n",
    "    \n",
    "    print()\n",
    "    totspace-=1\n",
    "    totstr+=1\n",
    "    countrow+=1\n",
    "    "
   ]
  },
  {
   "cell_type": "code",
   "execution_count": null,
   "id": "f177bc66-5d3b-45d3-beda-92584d8f9d98",
   "metadata": {},
   "outputs": [],
   "source": []
  }
 ],
 "metadata": {
  "kernelspec": {
   "display_name": "Python 3 (ipykernel)",
   "language": "python",
   "name": "python3"
  },
  "language_info": {
   "codemirror_mode": {
    "name": "ipython",
    "version": 3
   },
   "file_extension": ".py",
   "mimetype": "text/x-python",
   "name": "python",
   "nbconvert_exporter": "python",
   "pygments_lexer": "ipython3",
   "version": "3.11.0rc2"
  }
 },
 "nbformat": 4,
 "nbformat_minor": 5
}
