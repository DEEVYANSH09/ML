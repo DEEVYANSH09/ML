{
 "cells": [
  {
   "cell_type": "code",
   "execution_count": 14,
   "id": "ac40468e-e29d-4951-9c49-1e541dd3a739",
   "metadata": {},
   "outputs": [
    {
     "name": "stdout",
     "output_type": "stream",
     "text": [
      "DEEVYANSH IS THE BEST\n"
     ]
    }
   ],
   "source": [
    "print(\"DEEVYANSH IS THE BEST\")\n"
   ]
  },
  {
   "cell_type": "code",
   "execution_count": 4,
   "id": "a65a1102-4c08-4a41-87aa-a74c00059724",
   "metadata": {},
   "outputs": [
    {
     "name": "stdout",
     "output_type": "stream",
     "text": [
      "10 22.5 HELLO\n"
     ]
    }
   ],
   "source": [
    "a = 10\n",
    "b = 22.5\n",
    "c = \"HELLO\"\n",
    "\n",
    "print(a,b,c)"
   ]
  },
  {
   "cell_type": "code",
   "execution_count": 2,
   "id": "2be11f7f-a8d3-4b1d-834d-ed44d456ebb3",
   "metadata": {},
   "outputs": [
    {
     "name": "stdout",
     "output_type": "stream",
     "text": [
      "['False', 'None', 'True', 'and', 'as', 'assert', 'async', 'await', 'break', 'class', 'continue', 'def', 'del', 'elif', 'else', 'except', 'finally', 'for', 'from', 'global', 'if', 'import', 'in', 'is', 'lambda', 'nonlocal', 'not', 'or', 'pass', 'raise', 'return', 'try', 'while', 'with', 'yield']\n"
     ]
    }
   ],
   "source": [
    "import keyword\n",
    "print(keyword.kwlist)\n"
   ]
  },
  {
   "cell_type": "code",
   "execution_count": 3,
   "id": "96e09909-2efe-4275-83ca-b80812c9a2b5",
   "metadata": {},
   "outputs": [
    {
     "data": {
      "text/plain": [
       "' multiple\\nline comment'"
      ]
     },
     "execution_count": 3,
     "metadata": {},
     "output_type": "execute_result"
    }
   ],
   "source": [
    "# single line comment\n",
    "''' multiple\n",
    "line comment'''"
   ]
  },
  {
   "cell_type": "code",
   "execution_count": 9,
   "id": "ea0d9300-ddd6-42d1-916d-05c7fb02f18e",
   "metadata": {},
   "outputs": [
    {
     "name": "stdout",
     "output_type": "stream",
     "text": [
      "10\n",
      "24\n",
      "DEEVYANSH\n"
     ]
    }
   ],
   "source": [
    "a,b,c = 10,24,\"DEEVYANSH\" #multiple assignment\n",
    "print(a)\n",
    "print(b)\n",
    "print(c)"
   ]
  },
  {
   "cell_type": "code",
   "execution_count": 11,
   "id": "77286b9c-9310-4701-a9ff-a6423c58730a",
   "metadata": {},
   "outputs": [
    {
     "data": {
      "text/plain": [
       "140734953014344"
      ]
     },
     "execution_count": 11,
     "metadata": {},
     "output_type": "execute_result"
    }
   ],
   "source": [
    "# print adrss of 10 <in which adress 10 is stores>\n",
    "id(a) # as a has adress of a"
   ]
  },
  {
   "cell_type": "code",
   "execution_count": 12,
   "id": "43079526-74d4-4263-a6eb-d15af583788a",
   "metadata": {},
   "outputs": [
    {
     "data": {
      "text/plain": [
       "str"
      ]
     },
     "execution_count": 12,
     "metadata": {},
     "output_type": "execute_result"
    }
   ],
   "source": [
    "type(c)"
   ]
  },
  {
   "cell_type": "code",
   "execution_count": 13,
   "id": "12bb55ff-ffd7-4c5c-aed6-d13c6b606cba",
   "metadata": {},
   "outputs": [
    {
     "data": {
      "text/plain": [
       "int"
      ]
     },
     "execution_count": 13,
     "metadata": {},
     "output_type": "execute_result"
    }
   ],
   "source": [
    "c=10\n",
    "type(c)"
   ]
  },
  {
   "cell_type": "code",
   "execution_count": 15,
   "id": "03858a05-5e97-4631-aab0-55cd3baeef3b",
   "metadata": {},
   "outputs": [
    {
     "data": {
      "text/plain": [
       "str"
      ]
     },
     "execution_count": 15,
     "metadata": {},
     "output_type": "execute_result"
    }
   ],
   "source": [
    "# data types\n",
    "a= 'abc' #string\n",
    "b= '1' # in python everything is string no character\n",
    "c= '3s' # is string also can be written in double and single quotes\n",
    "type(c)\n"
   ]
  },
  {
   "cell_type": "code",
   "execution_count": 17,
   "id": "785b10ca-3ecb-4da3-bebd-125a9e119110",
   "metadata": {},
   "outputs": [
    {
     "name": "stdout",
     "output_type": "stream",
     "text": [
      "(3+4j)\n"
     ]
    },
    {
     "data": {
      "text/plain": [
       "complex"
      ]
     },
     "execution_count": 17,
     "metadata": {},
     "output_type": "execute_result"
    }
   ],
   "source": [
    "# numeric dtype\n",
    "a = 10 # int # in python we only hv int no long \n",
    "b = 24.5 # float\n",
    "c = 3+4j # complex\n",
    "print(c)\n",
    "type(c)"
   ]
  },
  {
   "cell_type": "code",
   "execution_count": 18,
   "id": "c73953d6-7a7e-4a5c-ab9d-327c6e8530ec",
   "metadata": {},
   "outputs": [],
   "source": [
    "# seq type dtype\n",
    "ls = [1,2,3] #list\n",
    "tp = (1,2,3) #tupple"
   ]
  },
  {
   "cell_type": "code",
   "execution_count": 19,
   "id": "2cd41d19-3bf4-472d-b427-0b6931ced122",
   "metadata": {},
   "outputs": [],
   "source": [
    "# mapping type\n",
    "# works on key value pair concept\n"
   ]
  },
  {
   "cell_type": "code",
   "execution_count": 20,
   "id": "4f99ffaa-dcaa-44f6-a78f-0a6642b26011",
   "metadata": {},
   "outputs": [],
   "source": [
    "# set dtype\n",
    "# set value can be changes\n",
    "# frozen set values in that set can not be changed"
   ]
  },
  {
   "cell_type": "code",
   "execution_count": 21,
   "id": "e1f54c9f-2c4d-4f1e-a449-0eb3c4f4d40d",
   "metadata": {},
   "outputs": [
    {
     "name": "stdout",
     "output_type": "stream",
     "text": [
      "None\n"
     ]
    }
   ],
   "source": [
    "# non dtype\n",
    "r=None\n",
    "print(r)"
   ]
  },
  {
   "cell_type": "code",
   "execution_count": 26,
   "id": "34e5a864-6b88-4638-ae6a-9bc1d048621d",
   "metadata": {},
   "outputs": [
    {
     "name": "stdout",
     "output_type": "stream",
     "text": [
      "30.5 <class 'int'> 30\n"
     ]
    }
   ],
   "source": [
    "# conversion of dtype\n",
    "a = 30.5\n",
    "b = int(a)\n",
    "print(a, type(b),b)\n"
   ]
  },
  {
   "cell_type": "code",
   "execution_count": 27,
   "id": "88561c6c-25cf-46e9-9eb0-a5b31e6e7bcd",
   "metadata": {},
   "outputs": [
    {
     "name": "stdout",
     "output_type": "stream",
     "text": [
      "30\n"
     ]
    }
   ],
   "source": [
    "a = 30.9\n",
    "a = int(a)\n",
    "print(a)"
   ]
  },
  {
   "cell_type": "code",
   "execution_count": 2,
   "id": "af72f1c3-be71-4690-85f7-4af8abfacce4",
   "metadata": {},
   "outputs": [
    {
     "name": "stdout",
     "output_type": "stream",
     "text": [
      "12.233 <class 'float'>\n"
     ]
    }
   ],
   "source": [
    "c=\"12.233\"\n",
    "k=float(c)\n",
    "print(k,type(k))"
   ]
  },
  {
   "cell_type": "code",
   "execution_count": 3,
   "id": "4847071f-c56d-41b7-9b98-47e7bea3380e",
   "metadata": {},
   "outputs": [],
   "source": [
    "#ascii value\n",
    "#a->97\n"
   ]
  },
  {
   "cell_type": "code",
   "execution_count": 4,
   "id": "aefc89ac-a579-4e7a-810b-9ad04d1f9f63",
   "metadata": {},
   "outputs": [
    {
     "name": "stdout",
     "output_type": "stream",
     "text": [
      "b\n"
     ]
    }
   ],
   "source": [
    "a = 98\n",
    "c = chr(a) #int to character value\n",
    "print(c)"
   ]
  },
  {
   "cell_type": "code",
   "execution_count": 6,
   "id": "1bd10887-44dd-481a-9040-5e3432a4ec59",
   "metadata": {},
   "outputs": [
    {
     "name": "stdout",
     "output_type": "stream",
     "text": [
      "97\n"
     ]
    }
   ],
   "source": [
    "c = 'a'\n",
    "a = ord(c) #character to int ascii\n",
    "print(a)"
   ]
  },
  {
   "cell_type": "code",
   "execution_count": 7,
   "id": "de60c8de-c0b0-4158-92e1-71bd206c7c08",
   "metadata": {},
   "outputs": [
    {
     "name": "stdout",
     "output_type": "stream",
     "text": [
      "33\n"
     ]
    }
   ],
   "source": [
    "a=10\n",
    "b=23\n",
    "c=a+b\n",
    "print(c)"
   ]
  },
  {
   "cell_type": "code",
   "execution_count": 8,
   "id": "0b26eca8-f1c1-4ca9-a050-4ceb84778819",
   "metadata": {},
   "outputs": [
    {
     "name": "stdout",
     "output_type": "stream",
     "text": [
      "0.5\n"
     ]
    }
   ],
   "source": [
    "a=10\n",
    "b=20\n",
    "c=a/b\n",
    "print(c)#in java and c++ this would return 0"
   ]
  },
  {
   "cell_type": "code",
   "execution_count": 9,
   "id": "9621454d-3d18-4973-bd70-f9a840e26322",
   "metadata": {},
   "outputs": [],
   "source": [
    "# % returns remainder\n"
   ]
  },
  {
   "cell_type": "code",
   "execution_count": 12,
   "id": "e0f2209a-343b-4530-895f-dc2a393bbe37",
   "metadata": {},
   "outputs": [
    {
     "name": "stdout",
     "output_type": "stream",
     "text": [
      "False\n"
     ]
    }
   ],
   "source": [
    "a=10\n",
    "b=20\n",
    "c= a==b\n",
    "print(c)"
   ]
  },
  {
   "cell_type": "code",
   "execution_count": 13,
   "id": "c6d978ce-9bd2-4358-9417-60d9e3b2ef09",
   "metadata": {},
   "outputs": [],
   "source": [
    "# not a is reverse of a what ever may be true or false"
   ]
  },
  {
   "cell_type": "code",
   "execution_count": 15,
   "id": "37483874-bad8-4c64-9379-188ca49aa350",
   "metadata": {},
   "outputs": [
    {
     "name": "stdout",
     "output_type": "stream",
     "text": [
      "True\n",
      "True\n"
     ]
    }
   ],
   "source": [
    "a=100\n",
    "b=20nt\n",
    "c=50\n",
    "\n",
    "e=a>b<c # only accepted in python\n",
    "d=a>b and b<c # both r same\n",
    "\n",
    "print(d)\n",
    "print(e)"
   ]
  },
  {
   "cell_type": "code",
   "execution_count": 17,
   "id": "f0090a37-41d3-4e43-ac89-7a7792768981",
   "metadata": {},
   "outputs": [
    {
     "name": "stdout",
     "output_type": "stream",
     "text": [
      "100\n"
     ]
    }
   ],
   "source": [
    "a = 10\n",
    "a *= 10\n",
    "print(a)"
   ]
  },
  {
   "cell_type": "code",
   "execution_count": 20,
   "id": "e240dd51-720c-4049-8d43-784ccc02071b",
   "metadata": {},
   "outputs": [
    {
     "name": "stdout",
     "output_type": "stream",
     "text": [
      "140735313989512 140735313989512\n",
      "True\n",
      "True\n",
      "False\n"
     ]
    }
   ],
   "source": [
    "a=100\n",
    "b=100\n",
    "print(id(a),id(b))\n",
    "print(id(a) == id(b))\n",
    "print(a is b) #short way of doing comparison\n",
    "print(a is not b)"
   ]
  },
  {
   "cell_type": "code",
   "execution_count": 22,
   "id": "fd2354ed-99dc-4f17-9c89-e5a56f84dc0c",
   "metadata": {},
   "outputs": [
    {
     "name": "stdout",
     "output_type": "stream",
     "text": [
      "hii\n",
      "EVEN\n",
      "bye\n"
     ]
    }
   ],
   "source": [
    "a=10\n",
    "print(\"hii\")\n",
    "\n",
    "if a%2 == 0:\n",
    "    print('EVEN') # concept of identation\n",
    "else:\n",
    "    print('odd')\n",
    "\n",
    "print('bye')"
   ]
  },
  {
   "cell_type": "code",
   "execution_count": 27,
   "id": "2fa16823-088d-42c3-83bf-cd89ed36f823",
   "metadata": {},
   "outputs": [
    {
     "name": "stdin",
     "output_type": "stream",
     "text": [
      "ENTER UR AGE 19\n"
     ]
    },
    {
     "name": "stdout",
     "output_type": "stream",
     "text": [
      "eleg\n"
     ]
    }
   ],
   "source": [
    "age = int(input(\"ENTER UR AGE\"))\n",
    "if age>18:\n",
    "    print('eleg')\n",
    "else:\n",
    "    print('ne')"
   ]
  },
  {
   "cell_type": "code",
   "execution_count": 5,
   "id": "f8c6c56e-8e39-4507-95b2-705c4da01b01",
   "metadata": {},
   "outputs": [
    {
     "name": "stdin",
     "output_type": "stream",
     "text": [
      "ENTER UR MARKS 61\n"
     ]
    },
    {
     "name": "stdout",
     "output_type": "stream",
     "text": [
      "B\n"
     ]
    }
   ],
   "source": [
    "marks = int(input(\"ENTER UR MARKS\"))\n",
    "if(marks>=80 and marks<=100):\n",
    "    print(\"A\")\n",
    "elif(marks>=60 and marks<80):\n",
    "    print(\"B\")"
   ]
  },
  {
   "cell_type": "code",
   "execution_count": 8,
   "id": "860f66f1-920c-46f5-997b-f21e86ff1fc6",
   "metadata": {},
   "outputs": [
    {
     "name": "stdin",
     "output_type": "stream",
     "text": [
      "ENTER UR MARKS ww\n"
     ]
    },
    {
     "ename": "ValueError",
     "evalue": "invalid literal for int() with base 10: 'ww'",
     "output_type": "error",
     "traceback": [
      "\u001b[1;31m---------------------------------------------------------------------------\u001b[0m",
      "\u001b[1;31mValueError\u001b[0m                                Traceback (most recent call last)",
      "Cell \u001b[1;32mIn[8], line 2\u001b[0m\n\u001b[0;32m      1\u001b[0m \u001b[38;5;66;03m#another way of writing above code\u001b[39;00m\n\u001b[1;32m----> 2\u001b[0m marks \u001b[38;5;241m=\u001b[39m \u001b[38;5;28;43mint\u001b[39;49m\u001b[43m(\u001b[49m\u001b[38;5;28;43minput\u001b[39;49m\u001b[43m(\u001b[49m\u001b[38;5;124;43m\"\u001b[39;49m\u001b[38;5;124;43mENTER UR MARKS\u001b[39;49m\u001b[38;5;124;43m\"\u001b[39;49m\u001b[43m)\u001b[49m\u001b[43m)\u001b[49m\n\u001b[0;32m      3\u001b[0m \u001b[38;5;28;01mif\u001b[39;00m \u001b[38;5;241m100\u001b[39m \u001b[38;5;241m>\u001b[39m\u001b[38;5;241m=\u001b[39m marks \u001b[38;5;241m>\u001b[39m\u001b[38;5;241m=\u001b[39m\u001b[38;5;241m80\u001b[39m :\n\u001b[0;32m      4\u001b[0m             \u001b[38;5;28mprint\u001b[39m(\u001b[38;5;124m\"\u001b[39m\u001b[38;5;124mA\u001b[39m\u001b[38;5;124m\"\u001b[39m)\n",
      "\u001b[1;31mValueError\u001b[0m: invalid literal for int() with base 10: 'ww'"
     ]
    }
   ],
   "source": [
    "#another way of writing above code\n",
    "marks = int(input(\"ENTER UR MARKS\"))\n",
    "if 100 >= marks >=80 :\n",
    "            print(\"A\")\n",
    "\n"
   ]
  },
  {
   "cell_type": "code",
   "execution_count": 11,
   "id": "f5c8dd37-a2fc-4c20-855b-bcaf42134201",
   "metadata": {},
   "outputs": [
    {
     "name": "stdout",
     "output_type": "stream",
     "text": [
      "False\n"
     ]
    }
   ],
   "source": [
    "a=0\n",
    "c=bool(a)\n",
    "print(c)"
   ]
  },
  {
   "cell_type": "code",
   "execution_count": 12,
   "id": "f219719d-4f97-4c70-a1da-02243ca94df1",
   "metadata": {},
   "outputs": [
    {
     "name": "stdout",
     "output_type": "stream",
     "text": [
      "True\n"
     ]
    }
   ],
   "source": [
    "a=1\n",
    "c=bool(a)\n",
    "print(c)"
   ]
  },
  {
   "cell_type": "code",
   "execution_count": 13,
   "id": "ceafe2d6-1da9-4e72-b777-a4bafcc0ea4c",
   "metadata": {},
   "outputs": [
    {
     "name": "stdout",
     "output_type": "stream",
     "text": [
      "True\n"
     ]
    }
   ],
   "source": [
    "a=5\n",
    "c=bool(a)\n",
    "print(c)"
   ]
  },
  {
   "cell_type": "code",
   "execution_count": 14,
   "id": "8b203628-950e-4380-95a8-d0dcef66ed6d",
   "metadata": {},
   "outputs": [
    {
     "data": {
      "text/plain": [
       "100"
      ]
     },
     "execution_count": 14,
     "metadata": {},
     "output_type": "execute_result"
    }
   ],
   "source": [
    "# TERNARY OPERATOR\n",
    "a = 100\n",
    "b = 20\n",
    "\n",
    "c= a if a>b else b\n",
    "c"
   ]
  },
  {
   "cell_type": "code",
   "execution_count": 15,
   "id": "013f7d55-b9de-431e-8a56-ca8b5afe51ca",
   "metadata": {},
   "outputs": [
    {
     "name": "stdout",
     "output_type": "stream",
     "text": [
      "1\n",
      "2\n",
      "3\n",
      "4\n",
      "5\n"
     ]
    }
   ],
   "source": [
    "i=1\n",
    "while i<=5:\n",
    "    print(i)\n",
    "    i+=1\n",
    "    "
   ]
  },
  {
   "cell_type": "code",
   "execution_count": 16,
   "id": "43103ed9-22c4-4de0-ac9d-4226a7970447",
   "metadata": {},
   "outputs": [
    {
     "name": "stdout",
     "output_type": "stream",
     "text": [
      "55\n"
     ]
    }
   ],
   "source": [
    "# sum of numbers from 1 to 10\n",
    "i=1\n",
    "sum=0\n",
    "\n",
    "while i<=10:\n",
    "    sum += i\n",
    "    i+=1\n",
    "\n",
    "print(sum)"
   ]
  },
  {
   "cell_type": "code",
   "execution_count": 20,
   "id": "21223813-0594-4842-bd4b-424d8bf73d15",
   "metadata": {},
   "outputs": [
    {
     "name": "stdin",
     "output_type": "stream",
     "text": [
      "ENTER UR NUMBER 12\n",
      "ENTER UR 2ND NUMBER 15\n"
     ]
    },
    {
     "name": "stdout",
     "output_type": "stream",
     "text": [
      "3\n"
     ]
    }
   ],
   "source": [
    "# finding gcd of two numbers\n",
    "\n",
    "n1 = int(input(\"ENTER UR NUMBER\"))\n",
    "n2 = int(input(\"ENTER UR 2ND NUMBER\"))\n",
    "\n",
    "# finding smallest number bw the two\n",
    "if n1<n2 :\n",
    "    sn=n1\n",
    "else:\n",
    "    sn=n2\n",
    "\n",
    "i=1\n",
    "\n",
    "while i<=sn:\n",
    "    if(n1%i==0 and n2%i==0):\n",
    "        gcd=i\n",
    "    i+=1\n",
    "\n",
    "print(gcd)"
   ]
  },
  {
   "cell_type": "code",
   "execution_count": null,
   "id": "41dc0cee-4efa-431a-9962-822854ab8ed0",
   "metadata": {},
   "outputs": [],
   "source": []
  }
 ],
 "metadata": {
  "kernelspec": {
   "display_name": "Python 3 (ipykernel)",
   "language": "python",
   "name": "python3"
  },
  "language_info": {
   "codemirror_mode": {
    "name": "ipython",
    "version": 3
   },
   "file_extension": ".py",
   "mimetype": "text/x-python",
   "name": "python",
   "nbconvert_exporter": "python",
   "pygments_lexer": "ipython3",
   "version": "3.11.0rc2"
  }
 },
 "nbformat": 4,
 "nbformat_minor": 5
}
