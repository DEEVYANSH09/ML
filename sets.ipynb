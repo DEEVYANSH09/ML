{
 "cells": [
  {
   "cell_type": "code",
   "execution_count": 3,
   "id": "5073dd76-cf11-4ba3-a217-397db80873b6",
   "metadata": {},
   "outputs": [
    {
     "name": "stdout",
     "output_type": "stream",
     "text": [
      "{1, 2, 3, 4, 5, 'hello', 'Rahul', 'Aman'} <class 'set'>\n"
     ]
    }
   ],
   "source": [
    "s={1,2,3,4,5,\"hello\",\"Rahul\",\"Aman\"}\n",
    "print(s,type(s)) # sought in ordered way but not always necessarily in ordered"
   ]
  },
  {
   "cell_type": "code",
   "execution_count": 4,
   "id": "92b61d6e-3748-4854-8157-79bd5d18a69d",
   "metadata": {},
   "outputs": [],
   "source": [
    "# searching in sets is faster as compared to other like list\n",
    "# sets is used in questions like remove duplicate elements"
   ]
  },
  {
   "cell_type": "code",
   "execution_count": 6,
   "id": "10945979-8f6a-4176-8672-0803897c5798",
   "metadata": {},
   "outputs": [
    {
     "name": "stdout",
     "output_type": "stream",
     "text": [
      "Yes\n"
     ]
    }
   ],
   "source": [
    "if \"hello\" in s:\n",
    "    print(\"Yes\")\n",
    "else:\n",
    "    print(\"no\")"
   ]
  },
  {
   "cell_type": "code",
   "execution_count": 8,
   "id": "5bec26ac-5737-4881-9765-808c7c7a3121",
   "metadata": {},
   "outputs": [
    {
     "name": "stdout",
     "output_type": "stream",
     "text": [
      "{1, 2, 3, 4, 5, 'hello', 'Rahul', 'hell', 'Aman'}\n"
     ]
    }
   ],
   "source": [
    "# sets dont hv any indexing\n",
    "s.add(\"hell\")\n",
    "print(s)"
   ]
  },
  {
   "cell_type": "code",
   "execution_count": 10,
   "id": "4fac6101-c2d5-4eb9-87bb-bc22700d302d",
   "metadata": {},
   "outputs": [
    {
     "name": "stdout",
     "output_type": "stream",
     "text": [
      "{1, 2, 3, 4, 5}\n"
     ]
    }
   ],
   "source": [
    "s1={1,2,3}\n",
    "s2={2,3,4,5}\n",
    "s3=s1.union(s2)\n",
    "print(s3)"
   ]
  },
  {
   "cell_type": "code",
   "execution_count": 12,
   "id": "da2b8510-5882-483a-b34b-8910be85c142",
   "metadata": {},
   "outputs": [
    {
     "name": "stdout",
     "output_type": "stream",
     "text": [
      "{2, 3}\n"
     ]
    }
   ],
   "source": [
    "s3=s1.intersection(s2)\n",
    "print(s3)"
   ]
  },
  {
   "cell_type": "code",
   "execution_count": 13,
   "id": "47ff73c3-53e1-4fa2-bdf0-e2520b205ded",
   "metadata": {},
   "outputs": [
    {
     "data": {
      "text/plain": [
       "{2, 3}"
      ]
     },
     "execution_count": 13,
     "metadata": {},
     "output_type": "execute_result"
    }
   ],
   "source": [
    "s1.intersection_update(s2)\n",
    "s1 # without creating new variable using inplace facility"
   ]
  },
  {
   "cell_type": "code",
   "execution_count": 14,
   "id": "b699447a-3e97-40e4-bbdc-846ff6d86310",
   "metadata": {},
   "outputs": [
    {
     "data": {
      "text/plain": [
       "{4, 5}"
      ]
     },
     "execution_count": 14,
     "metadata": {},
     "output_type": "execute_result"
    }
   ],
   "source": [
    "s3=s2.difference(s1)\n",
    "s3  # elements of s2 nt in s1"
   ]
  },
  {
   "cell_type": "code",
   "execution_count": null,
   "id": "ad07dd07-ac59-4d9a-bfcf-a96a4ffe3f9e",
   "metadata": {},
   "outputs": [],
   "source": []
  },
  {
   "cell_type": "code",
   "execution_count": null,
   "id": "763e3f53-cf7d-4828-9bf2-26d8d4ac3c72",
   "metadata": {},
   "outputs": [],
   "source": []
  }
 ],
 "metadata": {
  "kernelspec": {
   "display_name": "Python 3 (ipykernel)",
   "language": "python",
   "name": "python3"
  },
  "language_info": {
   "codemirror_mode": {
    "name": "ipython",
    "version": 3
   },
   "file_extension": ".py",
   "mimetype": "text/x-python",
   "name": "python",
   "nbconvert_exporter": "python",
   "pygments_lexer": "ipython3",
   "version": "3.11.0rc2"
  }
 },
 "nbformat": 4,
 "nbformat_minor": 5
}
