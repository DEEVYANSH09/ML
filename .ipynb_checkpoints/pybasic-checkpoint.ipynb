{
 "cells": [
  {
   "cell_type": "code",
   "execution_count": 14,
   "id": "ac40468e-e29d-4951-9c49-1e541dd3a739",
   "metadata": {},
   "outputs": [
    {
     "name": "stdout",
     "output_type": "stream",
     "text": [
      "DEEVYANSH IS THE BEST\n"
     ]
    }
   ],
   "source": [
    "print(\"DEEVYANSH IS THE BEST\")\n"
   ]
  },
  {
   "cell_type": "code",
   "execution_count": 4,
   "id": "a65a1102-4c08-4a41-87aa-a74c00059724",
   "metadata": {},
   "outputs": [
    {
     "name": "stdout",
     "output_type": "stream",
     "text": [
      "10 22.5 HELLO\n"
     ]
    }
   ],
   "source": [
    "a = 10\n",
    "b = 22.5\n",
    "c = \"HELLO\"\n",
    "\n",
    "print(a,b,c)"
   ]
  },
  {
   "cell_type": "code",
   "execution_count": 2,
   "id": "2be11f7f-a8d3-4b1d-834d-ed44d456ebb3",
   "metadata": {},
   "outputs": [
    {
     "name": "stdout",
     "output_type": "stream",
     "text": [
      "['False', 'None', 'True', 'and', 'as', 'assert', 'async', 'await', 'break', 'class', 'continue', 'def', 'del', 'elif', 'else', 'except', 'finally', 'for', 'from', 'global', 'if', 'import', 'in', 'is', 'lambda', 'nonlocal', 'not', 'or', 'pass', 'raise', 'return', 'try', 'while', 'with', 'yield']\n"
     ]
    }
   ],
   "source": [
    "import keyword\n",
    "print(keyword.kwlist)\n"
   ]
  },
  {
   "cell_type": "code",
   "execution_count": 3,
   "id": "96e09909-2efe-4275-83ca-b80812c9a2b5",
   "metadata": {},
   "outputs": [
    {
     "data": {
      "text/plain": [
       "' multiple\\nline comment'"
      ]
     },
     "execution_count": 3,
     "metadata": {},
     "output_type": "execute_result"
    }
   ],
   "source": [
    "# single line comment\n",
    "''' multiple\n",
    "line comment'''"
   ]
  },
  {
   "cell_type": "code",
   "execution_count": 9,
   "id": "ea0d9300-ddd6-42d1-916d-05c7fb02f18e",
   "metadata": {},
   "outputs": [
    {
     "name": "stdout",
     "output_type": "stream",
     "text": [
      "10\n",
      "24\n",
      "DEEVYANSH\n"
     ]
    }
   ],
   "source": [
    "a,b,c = 10,24,\"DEEVYANSH\" #multiple assignment\n",
    "print(a)\n",
    "print(b)\n",
    "print(c)"
   ]
  },
  {
   "cell_type": "code",
   "execution_count": 11,
   "id": "77286b9c-9310-4701-a9ff-a6423c58730a",
   "metadata": {},
   "outputs": [
    {
     "data": {
      "text/plain": [
       "140734953014344"
      ]
     },
     "execution_count": 11,
     "metadata": {},
     "output_type": "execute_result"
    }
   ],
   "source": [
    "# print adrss of 10 <in which adress 10 is stores>\n",
    "id(a) # as a has adress of a"
   ]
  },
  {
   "cell_type": "code",
   "execution_count": 12,
   "id": "43079526-74d4-4263-a6eb-d15af583788a",
   "metadata": {},
   "outputs": [
    {
     "data": {
      "text/plain": [
       "str"
      ]
     },
     "execution_count": 12,
     "metadata": {},
     "output_type": "execute_result"
    }
   ],
   "source": [
    "type(c)"
   ]
  },
  {
   "cell_type": "code",
   "execution_count": 13,
   "id": "12bb55ff-ffd7-4c5c-aed6-d13c6b606cba",
   "metadata": {},
   "outputs": [
    {
     "data": {
      "text/plain": [
       "int"
      ]
     },
     "execution_count": 13,
     "metadata": {},
     "output_type": "execute_result"
    }
   ],
   "source": [
    "c=10\n",
    "type(c)"
   ]
  },
  {
   "cell_type": "code",
   "execution_count": 15,
   "id": "03858a05-5e97-4631-aab0-55cd3baeef3b",
   "metadata": {},
   "outputs": [
    {
     "data": {
      "text/plain": [
       "str"
      ]
     },
     "execution_count": 15,
     "metadata": {},
     "output_type": "execute_result"
    }
   ],
   "source": [
    "# data types\n",
    "a= 'abc' #string\n",
    "b= '1' # in python everything is string no character\n",
    "c= '3s' # is string also can be written in double and single quotes\n",
    "type(c)\n"
   ]
  },
  {
   "cell_type": "code",
   "execution_count": 17,
   "id": "785b10ca-3ecb-4da3-bebd-125a9e119110",
   "metadata": {},
   "outputs": [
    {
     "name": "stdout",
     "output_type": "stream",
     "text": [
      "(3+4j)\n"
     ]
    },
    {
     "data": {
      "text/plain": [
       "complex"
      ]
     },
     "execution_count": 17,
     "metadata": {},
     "output_type": "execute_result"
    }
   ],
   "source": [
    "# numeric dtype\n",
    "a = 10 # int # in python we only hv int no long \n",
    "b = 24.5 # float\n",
    "c = 3+4j # complex\n",
    "print(c)\n",
    "type(c)"
   ]
  },
  {
   "cell_type": "code",
   "execution_count": 18,
   "id": "c73953d6-7a7e-4a5c-ab9d-327c6e8530ec",
   "metadata": {},
   "outputs": [],
   "source": [
    "# seq type dtype\n",
    "ls = [1,2,3] #list\n",
    "tp = (1,2,3) #tupple"
   ]
  },
  {
   "cell_type": "code",
   "execution_count": 19,
   "id": "2cd41d19-3bf4-472d-b427-0b6931ced122",
   "metadata": {},
   "outputs": [],
   "source": [
    "# mapping type\n",
    "# works on key value pair concept\n"
   ]
  },
  {
   "cell_type": "code",
   "execution_count": 20,
   "id": "4f99ffaa-dcaa-44f6-a78f-0a6642b26011",
   "metadata": {},
   "outputs": [],
   "source": [
    "# set dtype\n",
    "# set value can be changes\n",
    "# frozen set values in that set can not be changed"
   ]
  },
  {
   "cell_type": "code",
   "execution_count": 21,
   "id": "e1f54c9f-2c4d-4f1e-a449-0eb3c4f4d40d",
   "metadata": {},
   "outputs": [
    {
     "name": "stdout",
     "output_type": "stream",
     "text": [
      "None\n"
     ]
    }
   ],
   "source": [
    "# non dtype\n",
    "r=None\n",
    "print(r)"
   ]
  },
  {
   "cell_type": "code",
   "execution_count": 26,
   "id": "34e5a864-6b88-4638-ae6a-9bc1d048621d",
   "metadata": {},
   "outputs": [
    {
     "name": "stdout",
     "output_type": "stream",
     "text": [
      "30.5 <class 'int'> 30\n"
     ]
    }
   ],
   "source": [
    "# conversion of dtype\n",
    "a = 30.5\n",
    "b = int(a)\n",
    "print(a, type(b),b)\n"
   ]
  },
  {
   "cell_type": "code",
   "execution_count": 27,
   "id": "88561c6c-25cf-46e9-9eb0-a5b31e6e7bcd",
   "metadata": {},
   "outputs": [
    {
     "name": "stdout",
     "output_type": "stream",
     "text": [
      "30\n"
     ]
    }
   ],
   "source": [
    "a = 30.9\n",
    "a = int(a)\n",
    "print(a)"
   ]
  },
  {
   "cell_type": "code",
   "execution_count": null,
   "id": "af72f1c3-be71-4690-85f7-4af8abfacce4",
   "metadata": {},
   "outputs": [],
   "source": []
  }
 ],
 "metadata": {
  "kernelspec": {
   "display_name": "Python 3 (ipykernel)",
   "language": "python",
   "name": "python3"
  },
  "language_info": {
   "codemirror_mode": {
    "name": "ipython",
    "version": 3
   },
   "file_extension": ".py",
   "mimetype": "text/x-python",
   "name": "python",
   "nbconvert_exporter": "python",
   "pygments_lexer": "ipython3",
   "version": "3.11.0rc2"
  }
 },
 "nbformat": 4,
 "nbformat_minor": 5
}
